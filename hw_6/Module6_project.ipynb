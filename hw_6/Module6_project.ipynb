{
 "cells": [
  {
   "cell_type": "markdown",
   "id": "559b073b-16c8-41b1-ac19-86e726a79435",
   "metadata": {},
   "source": [
    "# Модуль 6. Практическое задание 6"
   ]
  },
  {
   "cell_type": "code",
   "execution_count": 2,
   "id": "9e0511b3-9a2d-4a14-8bf9-bf569ec1e472",
   "metadata": {},
   "outputs": [],
   "source": [
    "import pandas as pd\n",
    "import numpy as np\n",
    "import seaborn as sns\n",
    "import matplotlib.pyplot as plt\n",
    "\n",
    "from sklearn.model_selection import train_test_split\n",
    "\n",
    "from sklearn.preprocessing import OneHotEncoder, StandardScaler\n",
    "from sklearn.impute import SimpleImputer\n",
    "from sklearn.pipeline import Pipeline\n",
    "from sklearn.compose import ColumnTransformer\n",
    "from sklearn.compose import make_column_selector as selector\n",
    "\n",
    "from sklearn.linear_model import LogisticRegression\n",
    "from sklearn.dummy import DummyClassifier\n",
    "from sklearn.ensemble import RandomForestClassifier\n",
    "\n",
    "from sklearn.metrics import accuracy_score, precision_score, recall_score, f1_score, confusion_matrix"
   ]
  },
  {
   "cell_type": "markdown",
   "id": "f06047c3-e385-4f57-846b-68bd61fb1bb7",
   "metadata": {},
   "source": [
    "![separator1](https://i.imgur.com/ZUWYTii.png)"
   ]
  },
  {
   "cell_type": "markdown",
   "id": "e4f4c8f1-6222-46af-ae20-a02b4a18a7a1",
   "metadata": {},
   "source": [
    "### Подготовка данных"
   ]
  },
  {
   "cell_type": "code",
   "execution_count": 5,
   "id": "a3affd10-80ec-49cb-ae73-40a71b5a6bf1",
   "metadata": {},
   "outputs": [
    {
     "data": {
      "text/html": [
       "<div>\n",
       "<style scoped>\n",
       "    .dataframe tbody tr th:only-of-type {\n",
       "        vertical-align: middle;\n",
       "    }\n",
       "\n",
       "    .dataframe tbody tr th {\n",
       "        vertical-align: top;\n",
       "    }\n",
       "\n",
       "    .dataframe thead th {\n",
       "        text-align: right;\n",
       "    }\n",
       "</style>\n",
       "<table border=\"1\" class=\"dataframe\">\n",
       "  <thead>\n",
       "    <tr style=\"text-align: right;\">\n",
       "      <th></th>\n",
       "      <th>passengerid</th>\n",
       "      <th>survived</th>\n",
       "      <th>pclass</th>\n",
       "      <th>name</th>\n",
       "      <th>sex</th>\n",
       "      <th>age</th>\n",
       "      <th>sibsp</th>\n",
       "      <th>parch</th>\n",
       "      <th>ticket</th>\n",
       "      <th>fare</th>\n",
       "      <th>cabin</th>\n",
       "      <th>embarked</th>\n",
       "    </tr>\n",
       "  </thead>\n",
       "  <tbody>\n",
       "    <tr>\n",
       "      <th>0</th>\n",
       "      <td>1</td>\n",
       "      <td>0</td>\n",
       "      <td>3</td>\n",
       "      <td>Braund, Mr. Owen Harris</td>\n",
       "      <td>male</td>\n",
       "      <td>22.0</td>\n",
       "      <td>1</td>\n",
       "      <td>0</td>\n",
       "      <td>A/5 21171</td>\n",
       "      <td>7.2500</td>\n",
       "      <td>NaN</td>\n",
       "      <td>S</td>\n",
       "    </tr>\n",
       "    <tr>\n",
       "      <th>1</th>\n",
       "      <td>2</td>\n",
       "      <td>1</td>\n",
       "      <td>1</td>\n",
       "      <td>Cumings, Mrs. John Bradley (Florence Briggs Th...</td>\n",
       "      <td>female</td>\n",
       "      <td>38.0</td>\n",
       "      <td>1</td>\n",
       "      <td>0</td>\n",
       "      <td>PC 17599</td>\n",
       "      <td>71.2833</td>\n",
       "      <td>C85</td>\n",
       "      <td>C</td>\n",
       "    </tr>\n",
       "    <tr>\n",
       "      <th>2</th>\n",
       "      <td>3</td>\n",
       "      <td>1</td>\n",
       "      <td>3</td>\n",
       "      <td>Heikkinen, Miss. Laina</td>\n",
       "      <td>female</td>\n",
       "      <td>26.0</td>\n",
       "      <td>0</td>\n",
       "      <td>0</td>\n",
       "      <td>STON/O2. 3101282</td>\n",
       "      <td>7.9250</td>\n",
       "      <td>NaN</td>\n",
       "      <td>S</td>\n",
       "    </tr>\n",
       "  </tbody>\n",
       "</table>\n",
       "</div>"
      ],
      "text/plain": [
       "   passengerid  survived  pclass  \\\n",
       "0            1         0       3   \n",
       "1            2         1       1   \n",
       "2            3         1       3   \n",
       "\n",
       "                                                name     sex   age  sibsp  \\\n",
       "0                            Braund, Mr. Owen Harris    male  22.0      1   \n",
       "1  Cumings, Mrs. John Bradley (Florence Briggs Th...  female  38.0      1   \n",
       "2                             Heikkinen, Miss. Laina  female  26.0      0   \n",
       "\n",
       "   parch            ticket     fare cabin embarked  \n",
       "0      0         A/5 21171   7.2500   NaN        S  \n",
       "1      0          PC 17599  71.2833   C85        C  \n",
       "2      0  STON/O2. 3101282   7.9250   NaN        S  "
      ]
     },
     "execution_count": 5,
     "metadata": {},
     "output_type": "execute_result"
    }
   ],
   "source": [
    "titanic = pd.read_csv(r'D:\\ДПО\\data\\train_titanic.csv')\n",
    "titanic.columns = titanic.columns.str.lower()\n",
    "titanic.head(3)"
   ]
  },
  {
   "cell_type": "code",
   "execution_count": 6,
   "id": "fb596775-3c65-4380-9832-9680b4ca4024",
   "metadata": {},
   "outputs": [
    {
     "data": {
      "text/plain": [
       "(891, 12)"
      ]
     },
     "execution_count": 6,
     "metadata": {},
     "output_type": "execute_result"
    }
   ],
   "source": [
    "titanic.shape"
   ]
  },
  {
   "cell_type": "code",
   "execution_count": 7,
   "id": "cb9d4795-2e4f-4d9a-a632-d27b8c033aca",
   "metadata": {},
   "outputs": [
    {
     "data": {
      "text/plain": [
       "passengerid      0\n",
       "survived         0\n",
       "pclass           0\n",
       "name             0\n",
       "sex              0\n",
       "age            177\n",
       "sibsp            0\n",
       "parch            0\n",
       "ticket           0\n",
       "fare             0\n",
       "cabin          687\n",
       "embarked         2\n",
       "dtype: int64"
      ]
     },
     "execution_count": 7,
     "metadata": {},
     "output_type": "execute_result"
    }
   ],
   "source": [
    "titanic.isna().sum()"
   ]
  },
  {
   "cell_type": "markdown",
   "id": "330e10b7-e153-40a5-bd90-6003d826ee26",
   "metadata": {},
   "source": [
    "Удалим лишние столбцы:\n",
    "1. passengerid, т.к. существенной информации колонка не несет\n",
    "2. cabin, т.к. в столбце очень много пропущенных значений\n",
    "3. ticket, т.к. данные содержат, и численные, и строковые значения. Столбец имеет плохую интерпретируемость"
   ]
  },
  {
   "cell_type": "code",
   "execution_count": 9,
   "id": "493ae38a-c56c-43ff-a8d7-f93a310a7968",
   "metadata": {},
   "outputs": [],
   "source": [
    "col_to_drop = ['cabin', 'passengerid', 'ticket']\n",
    "titanic.drop(columns = col_to_drop, axis = 1, inplace = True)"
   ]
  },
  {
   "cell_type": "markdown",
   "id": "2da44ffd-7805-4e70-a37f-5d7360143108",
   "metadata": {},
   "source": [
    "В столбце name содержатся: фамилия, имя, титул пассажира. Имя и фамилия для нас не является существенным параметром, а вот титул может косвенно дать нам информацию о социальном статусе, возрасте, поле пассажира."
   ]
  },
  {
   "cell_type": "code",
   "execution_count": 11,
   "id": "adf1c4ef-d726-4651-a063-c7af05c0ce22",
   "metadata": {},
   "outputs": [
    {
     "data": {
      "text/html": [
       "<div>\n",
       "<style scoped>\n",
       "    .dataframe tbody tr th:only-of-type {\n",
       "        vertical-align: middle;\n",
       "    }\n",
       "\n",
       "    .dataframe tbody tr th {\n",
       "        vertical-align: top;\n",
       "    }\n",
       "\n",
       "    .dataframe thead th {\n",
       "        text-align: right;\n",
       "    }\n",
       "</style>\n",
       "<table border=\"1\" class=\"dataframe\">\n",
       "  <thead>\n",
       "    <tr style=\"text-align: right;\">\n",
       "      <th></th>\n",
       "      <th>survived</th>\n",
       "      <th>pclass</th>\n",
       "      <th>name</th>\n",
       "      <th>sex</th>\n",
       "      <th>age</th>\n",
       "      <th>sibsp</th>\n",
       "      <th>parch</th>\n",
       "      <th>fare</th>\n",
       "      <th>embarked</th>\n",
       "      <th>title</th>\n",
       "    </tr>\n",
       "  </thead>\n",
       "  <tbody>\n",
       "    <tr>\n",
       "      <th>355</th>\n",
       "      <td>0</td>\n",
       "      <td>3</td>\n",
       "      <td>Vanden Steen, Mr. Leo Peter</td>\n",
       "      <td>male</td>\n",
       "      <td>28.0</td>\n",
       "      <td>0</td>\n",
       "      <td>0</td>\n",
       "      <td>9.5000</td>\n",
       "      <td>S</td>\n",
       "      <td>Mr</td>\n",
       "    </tr>\n",
       "    <tr>\n",
       "      <th>724</th>\n",
       "      <td>1</td>\n",
       "      <td>1</td>\n",
       "      <td>Chambers, Mr. Norman Campbell</td>\n",
       "      <td>male</td>\n",
       "      <td>27.0</td>\n",
       "      <td>1</td>\n",
       "      <td>0</td>\n",
       "      <td>53.1000</td>\n",
       "      <td>S</td>\n",
       "      <td>Mr</td>\n",
       "    </tr>\n",
       "    <tr>\n",
       "      <th>337</th>\n",
       "      <td>1</td>\n",
       "      <td>1</td>\n",
       "      <td>Burns, Miss. Elizabeth Margaret</td>\n",
       "      <td>female</td>\n",
       "      <td>41.0</td>\n",
       "      <td>0</td>\n",
       "      <td>0</td>\n",
       "      <td>134.5000</td>\n",
       "      <td>C</td>\n",
       "      <td>Miss</td>\n",
       "    </tr>\n",
       "    <tr>\n",
       "      <th>625</th>\n",
       "      <td>0</td>\n",
       "      <td>1</td>\n",
       "      <td>Sutton, Mr. Frederick</td>\n",
       "      <td>male</td>\n",
       "      <td>61.0</td>\n",
       "      <td>0</td>\n",
       "      <td>0</td>\n",
       "      <td>32.3208</td>\n",
       "      <td>S</td>\n",
       "      <td>Mr</td>\n",
       "    </tr>\n",
       "    <tr>\n",
       "      <th>223</th>\n",
       "      <td>0</td>\n",
       "      <td>3</td>\n",
       "      <td>Nenkoff, Mr. Christo</td>\n",
       "      <td>male</td>\n",
       "      <td>NaN</td>\n",
       "      <td>0</td>\n",
       "      <td>0</td>\n",
       "      <td>7.8958</td>\n",
       "      <td>S</td>\n",
       "      <td>Mr</td>\n",
       "    </tr>\n",
       "    <tr>\n",
       "      <th>743</th>\n",
       "      <td>0</td>\n",
       "      <td>3</td>\n",
       "      <td>McNamee, Mr. Neal</td>\n",
       "      <td>male</td>\n",
       "      <td>24.0</td>\n",
       "      <td>1</td>\n",
       "      <td>0</td>\n",
       "      <td>16.1000</td>\n",
       "      <td>S</td>\n",
       "      <td>Mr</td>\n",
       "    </tr>\n",
       "    <tr>\n",
       "      <th>73</th>\n",
       "      <td>0</td>\n",
       "      <td>3</td>\n",
       "      <td>Chronopoulos, Mr. Apostolos</td>\n",
       "      <td>male</td>\n",
       "      <td>26.0</td>\n",
       "      <td>1</td>\n",
       "      <td>0</td>\n",
       "      <td>14.4542</td>\n",
       "      <td>C</td>\n",
       "      <td>Mr</td>\n",
       "    </tr>\n",
       "    <tr>\n",
       "      <th>300</th>\n",
       "      <td>1</td>\n",
       "      <td>3</td>\n",
       "      <td>Kelly, Miss. Anna Katherine \"Annie Kate\"</td>\n",
       "      <td>female</td>\n",
       "      <td>NaN</td>\n",
       "      <td>0</td>\n",
       "      <td>0</td>\n",
       "      <td>7.7500</td>\n",
       "      <td>Q</td>\n",
       "      <td>Miss</td>\n",
       "    </tr>\n",
       "    <tr>\n",
       "      <th>252</th>\n",
       "      <td>0</td>\n",
       "      <td>1</td>\n",
       "      <td>Stead, Mr. William Thomas</td>\n",
       "      <td>male</td>\n",
       "      <td>62.0</td>\n",
       "      <td>0</td>\n",
       "      <td>0</td>\n",
       "      <td>26.5500</td>\n",
       "      <td>S</td>\n",
       "      <td>Mr</td>\n",
       "    </tr>\n",
       "    <tr>\n",
       "      <th>360</th>\n",
       "      <td>0</td>\n",
       "      <td>3</td>\n",
       "      <td>Skoog, Mr. Wilhelm</td>\n",
       "      <td>male</td>\n",
       "      <td>40.0</td>\n",
       "      <td>1</td>\n",
       "      <td>4</td>\n",
       "      <td>27.9000</td>\n",
       "      <td>S</td>\n",
       "      <td>Mr</td>\n",
       "    </tr>\n",
       "  </tbody>\n",
       "</table>\n",
       "</div>"
      ],
      "text/plain": [
       "     survived  pclass                                      name     sex   age  \\\n",
       "355         0       3               Vanden Steen, Mr. Leo Peter    male  28.0   \n",
       "724         1       1             Chambers, Mr. Norman Campbell    male  27.0   \n",
       "337         1       1           Burns, Miss. Elizabeth Margaret  female  41.0   \n",
       "625         0       1                     Sutton, Mr. Frederick    male  61.0   \n",
       "223         0       3                      Nenkoff, Mr. Christo    male   NaN   \n",
       "743         0       3                         McNamee, Mr. Neal    male  24.0   \n",
       "73          0       3               Chronopoulos, Mr. Apostolos    male  26.0   \n",
       "300         1       3  Kelly, Miss. Anna Katherine \"Annie Kate\"  female   NaN   \n",
       "252         0       1                 Stead, Mr. William Thomas    male  62.0   \n",
       "360         0       3                        Skoog, Mr. Wilhelm    male  40.0   \n",
       "\n",
       "     sibsp  parch      fare embarked title  \n",
       "355      0      0    9.5000        S    Mr  \n",
       "724      1      0   53.1000        S    Mr  \n",
       "337      0      0  134.5000        C  Miss  \n",
       "625      0      0   32.3208        S    Mr  \n",
       "223      0      0    7.8958        S    Mr  \n",
       "743      1      0   16.1000        S    Mr  \n",
       "73       1      0   14.4542        C    Mr  \n",
       "300      0      0    7.7500        Q  Miss  \n",
       "252      0      0   26.5500        S    Mr  \n",
       "360      1      4   27.9000        S    Mr  "
      ]
     },
     "execution_count": 11,
     "metadata": {},
     "output_type": "execute_result"
    }
   ],
   "source": [
    "titanic['title'] = titanic['name'].str.extract(r',\\s*([^\\.]+)\\.')\n",
    "titanic.sample(10, random_state = 185)"
   ]
  },
  {
   "cell_type": "code",
   "execution_count": 12,
   "id": "6a4b7a8a-9513-4dfa-898d-1ae253319307",
   "metadata": {},
   "outputs": [
    {
     "data": {
      "text/plain": [
       "title\n",
       "Mr              517\n",
       "Miss            182\n",
       "Mrs             125\n",
       "Master           40\n",
       "Dr                7\n",
       "Rev               6\n",
       "Mlle              2\n",
       "Major             2\n",
       "Col               2\n",
       "the Countess      1\n",
       "Capt              1\n",
       "Ms                1\n",
       "Sir               1\n",
       "Lady              1\n",
       "Mme               1\n",
       "Don               1\n",
       "Jonkheer          1\n",
       "Name: count, dtype: int64"
      ]
     },
     "execution_count": 12,
     "metadata": {},
     "output_type": "execute_result"
    }
   ],
   "source": [
    "titanic.title.value_counts()"
   ]
  },
  {
   "cell_type": "markdown",
   "id": "d32608d5-d920-4bda-ac66-45aa3810d744",
   "metadata": {},
   "source": [
    "Титулов получилось много, обобщим их, чтобы при их перекодировании получилось меньше уникальных значений"
   ]
  },
  {
   "cell_type": "code",
   "execution_count": 14,
   "id": "00f46602-8732-402a-aabb-196ca0dd0f86",
   "metadata": {},
   "outputs": [],
   "source": [
    "title_dict = {\n",
    "    'Mlle': 'Miss', 'Ms': 'Miss', 'Mme': 'Mrs',\n",
    "    'Lady': 'Royal', 'Countess': 'Royal', 'the Countess' : 'Royal', 'Dona': 'Royal',\n",
    "    'Sir': 'Royal', 'Jonkheer': 'Royal', 'Don': 'Royal',\n",
    "    'Capt': 'Officer', 'Col': 'Officer', 'Major': 'Officer', 'Rev': 'Officer', 'Dr': 'Officer'\n",
    "}\n",
    "titanic['title'] = titanic['title'].replace(title_dict)"
   ]
  },
  {
   "cell_type": "code",
   "execution_count": 15,
   "id": "12d7e3bb-9d56-48cb-a2d2-63a77e0c8f71",
   "metadata": {},
   "outputs": [
    {
     "data": {
      "text/plain": [
       "title\n",
       "Mr         517\n",
       "Miss       185\n",
       "Mrs        126\n",
       "Master      40\n",
       "Officer     18\n",
       "Royal        5\n",
       "Name: count, dtype: int64"
      ]
     },
     "execution_count": 15,
     "metadata": {},
     "output_type": "execute_result"
    }
   ],
   "source": [
    "titanic.title.value_counts()"
   ]
  },
  {
   "cell_type": "code",
   "execution_count": 16,
   "id": "a7387edf-6847-4b5e-86a3-93940b858cb6",
   "metadata": {},
   "outputs": [
    {
     "data": {
      "text/html": [
       "<div>\n",
       "<style scoped>\n",
       "    .dataframe tbody tr th:only-of-type {\n",
       "        vertical-align: middle;\n",
       "    }\n",
       "\n",
       "    .dataframe tbody tr th {\n",
       "        vertical-align: top;\n",
       "    }\n",
       "\n",
       "    .dataframe thead th {\n",
       "        text-align: right;\n",
       "    }\n",
       "</style>\n",
       "<table border=\"1\" class=\"dataframe\">\n",
       "  <thead>\n",
       "    <tr style=\"text-align: right;\">\n",
       "      <th></th>\n",
       "      <th>survived</th>\n",
       "      <th>pclass</th>\n",
       "      <th>sex</th>\n",
       "      <th>age</th>\n",
       "      <th>sibsp</th>\n",
       "      <th>parch</th>\n",
       "      <th>fare</th>\n",
       "      <th>embarked</th>\n",
       "      <th>title</th>\n",
       "    </tr>\n",
       "  </thead>\n",
       "  <tbody>\n",
       "    <tr>\n",
       "      <th>0</th>\n",
       "      <td>0</td>\n",
       "      <td>3</td>\n",
       "      <td>male</td>\n",
       "      <td>22.0</td>\n",
       "      <td>1</td>\n",
       "      <td>0</td>\n",
       "      <td>7.2500</td>\n",
       "      <td>S</td>\n",
       "      <td>Mr</td>\n",
       "    </tr>\n",
       "    <tr>\n",
       "      <th>1</th>\n",
       "      <td>1</td>\n",
       "      <td>1</td>\n",
       "      <td>female</td>\n",
       "      <td>38.0</td>\n",
       "      <td>1</td>\n",
       "      <td>0</td>\n",
       "      <td>71.2833</td>\n",
       "      <td>C</td>\n",
       "      <td>Mrs</td>\n",
       "    </tr>\n",
       "    <tr>\n",
       "      <th>2</th>\n",
       "      <td>1</td>\n",
       "      <td>3</td>\n",
       "      <td>female</td>\n",
       "      <td>26.0</td>\n",
       "      <td>0</td>\n",
       "      <td>0</td>\n",
       "      <td>7.9250</td>\n",
       "      <td>S</td>\n",
       "      <td>Miss</td>\n",
       "    </tr>\n",
       "    <tr>\n",
       "      <th>3</th>\n",
       "      <td>1</td>\n",
       "      <td>1</td>\n",
       "      <td>female</td>\n",
       "      <td>35.0</td>\n",
       "      <td>1</td>\n",
       "      <td>0</td>\n",
       "      <td>53.1000</td>\n",
       "      <td>S</td>\n",
       "      <td>Mrs</td>\n",
       "    </tr>\n",
       "    <tr>\n",
       "      <th>4</th>\n",
       "      <td>0</td>\n",
       "      <td>3</td>\n",
       "      <td>male</td>\n",
       "      <td>35.0</td>\n",
       "      <td>0</td>\n",
       "      <td>0</td>\n",
       "      <td>8.0500</td>\n",
       "      <td>S</td>\n",
       "      <td>Mr</td>\n",
       "    </tr>\n",
       "  </tbody>\n",
       "</table>\n",
       "</div>"
      ],
      "text/plain": [
       "   survived  pclass     sex   age  sibsp  parch     fare embarked title\n",
       "0         0       3    male  22.0      1      0   7.2500        S    Mr\n",
       "1         1       1  female  38.0      1      0  71.2833        C   Mrs\n",
       "2         1       3  female  26.0      0      0   7.9250        S  Miss\n",
       "3         1       1  female  35.0      1      0  53.1000        S   Mrs\n",
       "4         0       3    male  35.0      0      0   8.0500        S    Mr"
      ]
     },
     "execution_count": 16,
     "metadata": {},
     "output_type": "execute_result"
    }
   ],
   "source": [
    "titanic.drop('name', axis = 1, inplace = True)\n",
    "titanic.head(5)"
   ]
  },
  {
   "cell_type": "markdown",
   "id": "7f2305fb-5da9-4bd3-9145-5fb21c740a81",
   "metadata": {},
   "source": [
    "![separator1](https://i.imgur.com/ZUWYTii.png)"
   ]
  },
  {
   "cell_type": "markdown",
   "id": "7bca1aaf-ff36-449a-bf58-236487121bf7",
   "metadata": {},
   "source": [
    "### Выбор метрики"
   ]
  },
  {
   "cell_type": "code",
   "execution_count": 19,
   "id": "3d25dcba-55b2-4d10-949c-831e218465d9",
   "metadata": {
    "scrolled": true
   },
   "outputs": [
    {
     "data": {
      "text/plain": [
       "survived\n",
       "0    61.62\n",
       "1    38.38\n",
       "Name: proportion, dtype: float64"
      ]
     },
     "execution_count": 19,
     "metadata": {},
     "output_type": "execute_result"
    }
   ],
   "source": [
    "titanic.survived.value_counts(normalize = True).mul(100).round(2)"
   ]
  },
  {
   "cell_type": "markdown",
   "id": "fbd2e645-095b-412b-9db5-7162ebb60360",
   "metadata": {},
   "source": [
    "В классах наблюдается некоторый дисбаланс: примерно 61% пассажиров не выжили, 39% выжили - поэтому метрика accuracy будет не показательной. В нашем случае одинаково важно учитывать оба рода ошибок: False Negative (пропустили выжившего) и False Positive (сказали, что пассажир выжил, но это не так). Подходящей метрикой будем считать F1-score, являющейся гармонической средней между precision и recall."
   ]
  },
  {
   "cell_type": "markdown",
   "id": "222eb71f-65df-42a0-96b9-f5fa9b50ec5c",
   "metadata": {},
   "source": [
    "![separator1](https://i.imgur.com/ZUWYTii.png)"
   ]
  },
  {
   "cell_type": "markdown",
   "id": "7048ce6b-c550-459d-88b1-05d93bb7e31c",
   "metadata": {},
   "source": [
    "### Разбиение датасета на тренировочную и тестовую выборки"
   ]
  },
  {
   "cell_type": "code",
   "execution_count": 23,
   "id": "e655878d-b1e8-4cf4-ad65-7505bf27a5c1",
   "metadata": {},
   "outputs": [],
   "source": [
    "y = titanic['survived']\n",
    "x = titanic.drop(['survived'], axis = 1)\n",
    "x_train, x_test, y_train, y_test = train_test_split(x, y, random_state = 185, test_size = 0.25)"
   ]
  },
  {
   "cell_type": "markdown",
   "id": "64294fde-463e-4ee4-b099-c9f2b4615228",
   "metadata": {},
   "source": [
    "### Построение бейзлайна"
   ]
  },
  {
   "cell_type": "code",
   "execution_count": 25,
   "id": "8a4b0269-cc29-4a79-ae4a-5d83f5fd5242",
   "metadata": {},
   "outputs": [
    {
     "name": "stdout",
     "output_type": "stream",
     "text": [
      "Accuracy-score for Dummy Classificator: 0.6413\n",
      "F1-score for Dummy Classificator: 0.0000\n"
     ]
    }
   ],
   "source": [
    "dummy_clf = DummyClassifier(strategy = 'most_frequent', random_state = 185)\n",
    "dummy_clf.fit(x_train, y_train)\n",
    "y_pred_dummy = dummy_clf.predict(x_test)\n",
    "print(f'Accuracy-score for Dummy Classificator: {accuracy_score(y_test, y_pred_dummy):.4f}')\n",
    "print(f'F1-score for Dummy Classificator: {f1_score(y_test, y_pred_dummy):.4f}')"
   ]
  },
  {
   "cell_type": "markdown",
   "id": "50959f34-8afb-4599-a491-3990a0f99e43",
   "metadata": {},
   "source": [
    "![separator1](https://i.imgur.com/ZUWYTii.png)"
   ]
  },
  {
   "cell_type": "markdown",
   "id": "065b4ac4-49b3-4405-a4e4-06956ef25daa",
   "metadata": {},
   "source": [
    "### Построение пайплайна"
   ]
  },
  {
   "cell_type": "code",
   "execution_count": 28,
   "id": "294dd75b-b585-4e5e-884c-a9acc9ddd8b9",
   "metadata": {},
   "outputs": [],
   "source": [
    "model = LogisticRegression(class_weight = 'balanced', max_iter = 1500, random_state = 185)\n",
    "\n",
    "simple_imputer = SimpleImputer(strategy = 'median')\n",
    "std_scaler = StandardScaler()\n",
    "\n",
    "pipe_num = Pipeline([('imputer', simple_imputer), ('scaler', std_scaler)]) # pipeline для числовых признаков (заполняем пропущенные значения, нормализуем)\n",
    "\n",
    "s_imputer = SimpleImputer(strategy = 'most_frequent')\n",
    "ohe_encoder = OneHotEncoder(handle_unknown = 'ignore')\n",
    "pipe_cat = Pipeline([('imputer', s_imputer), ('encoder', ohe_encoder)]) # pipeline для категориальных признаков (заполняем пропущенные значения, кодируем)\n",
    "\n",
    "# объединяем пайплайны\n",
    "col_transformer = ColumnTransformer(\n",
    "    transformers = [\n",
    "        ('num_preproc', pipe_num, [col for col in x_train.columns if x_train[col].dtype != 'object']),\n",
    "        ('cat_preproc', pipe_cat, [col for col in x_train.columns if x_train[col].dtype == 'object'])\n",
    "    ]\n",
    ")\n"
   ]
  },
  {
   "cell_type": "markdown",
   "id": "79184325-1ec7-4e2f-9266-d27cb0d75d68",
   "metadata": {},
   "source": [
    "![separator1](https://i.imgur.com/ZUWYTii.png)"
   ]
  },
  {
   "cell_type": "markdown",
   "id": "f31aa71a-8295-4345-aa97-4262ac3fb922",
   "metadata": {},
   "source": [
    "### Проверка на мультиколлинеарность"
   ]
  },
  {
   "cell_type": "code",
   "execution_count": 31,
   "id": "e5979436-5000-4ce8-ac08-d1281f2f43d5",
   "metadata": {},
   "outputs": [],
   "source": [
    "x_num = pipe_num.fit_transform(x_train[selector(dtype_exclude = \"object\")(x_train)]) # обрабатываем числовые признаки\n",
    "\n",
    "num_cols = x_train[selector(dtype_exclude = \"object\")(x_train)].columns # возвращаем первоначальные названия колонок\n",
    "x_num_df = pd.DataFrame(x_num, columns = num_cols, index = x_train.index)"
   ]
  },
  {
   "cell_type": "code",
   "execution_count": 32,
   "id": "23cb9889-3a67-46c5-b493-360ed19b375c",
   "metadata": {},
   "outputs": [],
   "source": [
    "corrs = x_num_df.corr()\n",
    "upper_tri = corrs.where(np.triu(np.ones(corrs.shape), k=1).astype(bool))"
   ]
  },
  {
   "cell_type": "code",
   "execution_count": 33,
   "id": "a12ccca8-c5ca-41fe-a17a-fe470988209c",
   "metadata": {},
   "outputs": [
    {
     "data": {
      "text/plain": [
       "<Axes: >"
      ]
     },
     "execution_count": 33,
     "metadata": {},
     "output_type": "execute_result"
    },
    {
     "data": {
      "image/png": "[encoded data removed]",
      "text/plain": [
       "<Figure size 600x600 with 2 Axes>"
      ]
     },
     "metadata": {},
     "output_type": "display_data"
    }
   ],
   "source": [
    "plt.figure(figsize = (6, 6))\n",
    "sns.heatmap(upper_tri, cmap = \"RdYlBu_r\", square = True, annot = True)"
   ]
  },
  {
   "cell_type": "markdown",
   "id": "c8e1ede4-051a-4481-a8f4-9ae3f90506e3",
   "metadata": {},
   "source": [
    "Проблемы мультиколлинеарности не наблюдается, признаки имеют достаточно низкий уровень корреляции между собой"
   ]
  },
  {
   "cell_type": "markdown",
   "id": "b709f16f-6802-4a56-aecd-8a838342f072",
   "metadata": {},
   "source": [
    "![separator1](https://i.imgur.com/ZUWYTii.png)"
   ]
  },
  {
   "cell_type": "markdown",
   "id": "165ab0f6-babc-44dc-9361-786b3370bd03",
   "metadata": {},
   "source": [
    "### Обучение модели Logistic Regression"
   ]
  },
  {
   "cell_type": "code",
   "execution_count": 37,
   "id": "7480d976-18d6-485c-8884-b42508aa09cd",
   "metadata": {},
   "outputs": [
    {
     "name": "stdout",
     "output_type": "stream",
     "text": [
      "For Logistic Regression\n",
      "F1-score: 0.7425\n",
      "Precision: 0.7126\n",
      "Recall:    0.7750\n",
      "Accuracy-score: 0.8072\n"
     ]
    }
   ],
   "source": [
    "final_pipe = Pipeline([('preproc', col_transformer),\n",
    "                       ('model', model)])\n",
    "\n",
    "final_pipe.fit(x_train, y_train)\n",
    "preds = final_pipe.predict(x_test)\n",
    "\n",
    "print(f'For Logistic Regression\\nF1-score: {f1_score(y_test, preds, zero_division = 0):.4f}')\n",
    "print(f'Precision: {precision_score(y_test, preds, zero_division = 0):.4f}')\n",
    "print(f'Recall:    {recall_score(y_test, preds, zero_division = 0):.4f}')\n",
    "print(f'Accuracy-score: {accuracy_score(y_test, preds):.4f}')"
   ]
  },
  {
   "cell_type": "code",
   "execution_count": 38,
   "id": "4fb32400-67f0-45bd-8553-bdfbd3013c1f",
   "metadata": {},
   "outputs": [
    {
     "data": {
      "image/png": "[encoded data removed]",
      "text/plain": [
       "<Figure size 400x400 with 1 Axes>"
      ]
     },
     "metadata": {},
     "output_type": "display_data"
    }
   ],
   "source": [
    "fig, ax = plt.subplots(figsize = (4,4))\n",
    "plt.title('Confusion Matrix')\n",
    "sns.heatmap(confusion_matrix(y_test, preds), annot = True, cbar = False, fmt = '.2f', cmap = 'magma')\n",
    "plt.ylabel('Actual')\n",
    "plt.xlabel('Predicted')\n",
    "plt.show()"
   ]
  },
  {
   "cell_type": "markdown",
   "id": "9ac36dba-08cf-4267-bd3e-906590ca1274",
   "metadata": {},
   "source": [
    "Обучим более сложную модель (Random Forest) и сравним значения метрик"
   ]
  },
  {
   "cell_type": "markdown",
   "id": "c4b412c8-2661-4199-8c1c-ab5584d3e09e",
   "metadata": {},
   "source": [
    "![separator1](https://i.imgur.com/ZUWYTii.png)"
   ]
  },
  {
   "cell_type": "markdown",
   "id": "cca40ff9-8f7b-4adc-8a53-19add4da70f1",
   "metadata": {},
   "source": [
    "### Обучение модели Random Forest"
   ]
  },
  {
   "cell_type": "code",
   "execution_count": 42,
   "id": "a757c966-69bf-4e17-88eb-60156a9d88f8",
   "metadata": {},
   "outputs": [
    {
     "name": "stdout",
     "output_type": "stream",
     "text": [
      "For Random Forest\n",
      "F1-score: 0.7143\n",
      "Precision: 0.7432\n",
      "Recall:    0.6875\n",
      "Accuracy-score: 0.8027\n"
     ]
    }
   ],
   "source": [
    "rf_model = RandomForestClassifier(random_state = 185)\n",
    "\n",
    "rf_pipe = Pipeline([\n",
    "    ('preproc', col_transformer),\n",
    "    ('model', rf_model)\n",
    "])\n",
    "\n",
    "rf_pipe.fit(x_train, y_train)\n",
    "y_pred_rf = rf_pipe.predict(x_test)\n",
    "\n",
    "print(f'For Random Forest\\nF1-score: {f1_score(y_test, y_pred_rf):.4f}')\n",
    "print(f'Precision: {precision_score(y_test, y_pred_rf):.4f}')\n",
    "print(f'Recall:    {recall_score(y_test, y_pred_rf):.4f}')\n",
    "print(f'Accuracy-score: {accuracy_score(y_test, y_pred_rf):.4f}')"
   ]
  },
  {
   "cell_type": "code",
   "execution_count": 43,
   "id": "ca88ce47-b05c-4088-b9fe-7cb3801497d4",
   "metadata": {},
   "outputs": [
    {
     "data": {
      "image/png": "[encoded data removed]",
      "text/plain": [
       "<Figure size 400x400 with 1 Axes>"
      ]
     },
     "metadata": {},
     "output_type": "display_data"
    }
   ],
   "source": [
    "fig, ax = plt.subplots(figsize = (4,4))\n",
    "plt.title('Confusion Matrix')\n",
    "sns.heatmap(confusion_matrix(y_test, y_pred_rf), annot = True, cbar = False, fmt = '.2f', cmap = 'magma')\n",
    "plt.ylabel('Actual')\n",
    "plt.xlabel('Predicted')\n",
    "plt.show()"
   ]
  }
 ],
 "metadata": {
  "kernelspec": {
   "display_name": "Python [conda env:base] *",
   "language": "python",
   "name": "conda-base-py"
  },
  "language_info": {
   "codemirror_mode": {
    "name": "ipython",
    "version": 3
   },
   "file_extension": ".py",
   "mimetype": "text/x-python",
   "name": "python",
   "nbconvert_exporter": "python",
   "pygments_lexer": "ipython3",
   "version": "3.12.7"
  }
 },
 "nbformat": 4,
 "nbformat_minor": 5
}
